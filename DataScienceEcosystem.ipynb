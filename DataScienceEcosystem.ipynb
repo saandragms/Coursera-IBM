{
 "cells": [
  {
   "cell_type": "markdown",
   "id": "5906a9f1-f52a-4a38-acda-c261c3b6ef00",
   "metadata": {
    "tags": []
   },
   "source": [
    "# Data Science Tools and Ecosystem."
   ]
  },
  {
   "cell_type": "markdown",
   "id": "a724dc61-2f0e-4e6d-bb2e-0ee9dfa4db18",
   "metadata": {},
   "source": [
    "## Author:\n",
    "Sandra Güemes"
   ]
  },
  {
   "cell_type": "markdown",
   "id": "9033cf75-6a56-43b8-8c3a-511af15c7685",
   "metadata": {},
   "source": [
    "In this notbeook, Data Science Tools are sumarized."
   ]
  },
  {
   "cell_type": "markdown",
   "id": "2fc65272-a1ed-4aad-bc0a-0811cd6c2c36",
   "metadata": {},
   "source": [
    "### Objectives:\n",
    "- List of popular languages for Data science.\n",
    "- List of popular libraries for Data science.\n",
    "- List of open source Data Science Tools\n",
    "- Numerical examples of running code."
   ]
  },
  {
   "cell_type": "markdown",
   "id": "6cbbaf8f-8cb3-4c65-97a5-47101c047d5f",
   "metadata": {},
   "source": [
    "These are some popular languages used by Data Scientists:\n",
    "1. Python\n",
    "2. Java\n",
    "3. C++\n",
    "4. SQL"
   ]
  },
  {
   "cell_type": "markdown",
   "id": "a020e094-c028-46cc-9f13-f50895a5c180",
   "metadata": {},
   "source": [
    "Some of the commonly used librared used by Data Scientists include:\n",
    "1. Numpy\n",
    "2. Pandas\n",
    "3. Matplotlib"
   ]
  },
  {
   "cell_type": "markdown",
   "id": "26e7ea89-3a7c-4e5b-954c-3cbb01512ba9",
   "metadata": {},
   "source": [
    "| Data Science tools|\n",
    "|----|\n",
    "| Jupyter Notebook |\n",
    "|RSudio|\n",
    "|VS Code|"
   ]
  },
  {
   "cell_type": "markdown",
   "id": "db683d21-7ad9-46f0-81df-db7224841f34",
   "metadata": {},
   "source": [
    "### Below are some examples of running arithmetic expressions in pyhton."
   ]
  },
  {
   "cell_type": "code",
   "execution_count": 5,
   "id": "b8ce5787-a107-4898-8d59-803ccb848a21",
   "metadata": {},
   "outputs": [
    {
     "data": {
      "text/plain": [
       "17"
      ]
     },
     "execution_count": 5,
     "metadata": {},
     "output_type": "execute_result"
    }
   ],
   "source": [
    "# Simple arithmetic expression of multiplying and addying integers.\n",
    "(3*4)+5"
   ]
  },
  {
   "cell_type": "code",
   "execution_count": 4,
   "id": "1cd7c826-3873-4789-b1f3-ad2aa03bd2be",
   "metadata": {},
   "outputs": [
    {
     "data": {
      "text/plain": [
       "3.3333333333333335"
      ]
     },
     "execution_count": 4,
     "metadata": {},
     "output_type": "execute_result"
    }
   ],
   "source": [
    "# This will convert 200 minutes to hours by dividing by 60:\n",
    "200/60"
   ]
  },
  {
   "cell_type": "code",
   "execution_count": null,
   "id": "9ec56c4e-29b6-405a-88f1-0d3859999f49",
   "metadata": {},
   "outputs": [],
   "source": []
  }
 ],
 "metadata": {
  "kernelspec": {
   "display_name": "Python 3 (ipykernel)",
   "language": "python",
   "name": "python3"
  },
  "language_info": {
   "codemirror_mode": {
    "name": "ipython",
    "version": 3
   },
   "file_extension": ".py",
   "mimetype": "text/x-python",
   "name": "python",
   "nbconvert_exporter": "python",
   "pygments_lexer": "ipython3",
   "version": "3.9.13"
  }
 },
 "nbformat": 4,
 "nbformat_minor": 5
}
